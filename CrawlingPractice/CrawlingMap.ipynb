{
 "cells": [
  {
   "cell_type": "code",
   "execution_count": 3,
   "metadata": {},
   "outputs": [
    {
     "name": "stdout",
     "output_type": "stream",
     "text": [
      "['강남구', '강동구', '강북구', '강서구', '관악구', '광진구', '구로구', '금천구', '노원구', '도봉구', '동대문구', '동작구', '마포구', '서대문구', '서초구', '성동구', '성북구', '송파구', '양천구', '영등포구', '용산구', '은평구', '종로구', '중구', '중랑구']\n"
     ]
    },
    {
     "ename": "ElementClickInterceptedException",
     "evalue": "Message: element click intercepted: Element <span>...</span> is not clickable at point (287, 825). Other element would receive the click: <div id=\"mask\" style=\"width: 1710px; height: 953px;\"></div>\n  (Session info: chrome=113.0.5672.63)\nStacktrace:\n0   chromedriver                        0x00000001005b42b8 chromedriver + 4260536\n1   chromedriver                        0x00000001005ac94c chromedriver + 4229452\n2   chromedriver                        0x00000001001e89d4 chromedriver + 281044\n3   chromedriver                        0x000000010022a134 chromedriver + 549172\n4   chromedriver                        0x0000000100228094 chromedriver + 540820\n5   chromedriver                        0x0000000100225fac chromedriver + 532396\n6   chromedriver                        0x000000010022537c chromedriver + 529276\n7   chromedriver                        0x0000000100219984 chromedriver + 481668\n8   chromedriver                        0x00000001002191cc chromedriver + 479692\n9   chromedriver                        0x000000010025a7e4 chromedriver + 747492\n10  chromedriver                        0x000000010021798c chromedriver + 473484\n11  chromedriver                        0x000000010021898c chromedriver + 477580\n12  chromedriver                        0x0000000100572a6c chromedriver + 3992172\n13  chromedriver                        0x0000000100576cd0 chromedriver + 4009168\n14  chromedriver                        0x000000010057cd48 chromedriver + 4033864\n15  chromedriver                        0x0000000100577940 chromedriver + 4012352\n16  chromedriver                        0x000000010054f57c chromedriver + 3847548\n17  chromedriver                        0x0000000100595400 chromedriver + 4133888\n18  chromedriver                        0x0000000100595558 chromedriver + 4134232\n19  chromedriver                        0x00000001005a5c3c chromedriver + 4201532\n20  libsystem_pthread.dylib             0x000000019dfebfa8 _pthread_start + 148\n21  libsystem_pthread.dylib             0x000000019dfe6da0 thread_start + 8\n",
     "output_type": "error",
     "traceback": [
      "\u001b[0;31m---------------------------------------------------------------------------\u001b[0m",
      "\u001b[0;31mElementClickInterceptedException\u001b[0m          Traceback (most recent call last)",
      "Cell \u001b[0;32mIn[3], line 30\u001b[0m\n\u001b[1;32m     27\u001b[0m time\u001b[39m.\u001b[39msleep(\u001b[39m2\u001b[39m)\n\u001b[1;32m     29\u001b[0m \u001b[39m# 엑셀 저장 버튼 누르기\u001b[39;00m\n\u001b[0;32m---> 30\u001b[0m driver\u001b[39m.\u001b[39;49mfind_element(By\u001b[39m.\u001b[39;49mXPATH, \u001b[39m'\u001b[39;49m\u001b[39m//*[@id=\u001b[39;49m\u001b[39m\"\u001b[39;49m\u001b[39mglopopd_excel\u001b[39;49m\u001b[39m\"\u001b[39;49m\u001b[39m]/span\u001b[39;49m\u001b[39m'\u001b[39;49m)\u001b[39m.\u001b[39;49mclick()\n\u001b[1;32m     31\u001b[0m time\u001b[39m.\u001b[39msleep(\u001b[39m2\u001b[39m)\n",
      "File \u001b[0;32m~/miniconda3/envs/crawl/lib/python3.11/site-packages/selenium/webdriver/remote/webelement.py:94\u001b[0m, in \u001b[0;36mWebElement.click\u001b[0;34m(self)\u001b[0m\n\u001b[1;32m     92\u001b[0m \u001b[39mdef\u001b[39;00m \u001b[39mclick\u001b[39m(\u001b[39mself\u001b[39m) \u001b[39m-\u001b[39m\u001b[39m>\u001b[39m \u001b[39mNone\u001b[39;00m:\n\u001b[1;32m     93\u001b[0m \u001b[39m    \u001b[39m\u001b[39m\"\"\"Clicks the element.\"\"\"\u001b[39;00m\n\u001b[0;32m---> 94\u001b[0m     \u001b[39mself\u001b[39;49m\u001b[39m.\u001b[39;49m_execute(Command\u001b[39m.\u001b[39;49mCLICK_ELEMENT)\n",
      "File \u001b[0;32m~/miniconda3/envs/crawl/lib/python3.11/site-packages/selenium/webdriver/remote/webelement.py:403\u001b[0m, in \u001b[0;36mWebElement._execute\u001b[0;34m(self, command, params)\u001b[0m\n\u001b[1;32m    401\u001b[0m     params \u001b[39m=\u001b[39m {}\n\u001b[1;32m    402\u001b[0m params[\u001b[39m\"\u001b[39m\u001b[39mid\u001b[39m\u001b[39m\"\u001b[39m] \u001b[39m=\u001b[39m \u001b[39mself\u001b[39m\u001b[39m.\u001b[39m_id\n\u001b[0;32m--> 403\u001b[0m \u001b[39mreturn\u001b[39;00m \u001b[39mself\u001b[39;49m\u001b[39m.\u001b[39;49m_parent\u001b[39m.\u001b[39;49mexecute(command, params)\n",
      "File \u001b[0;32m~/miniconda3/envs/crawl/lib/python3.11/site-packages/selenium/webdriver/remote/webdriver.py:440\u001b[0m, in \u001b[0;36mWebDriver.execute\u001b[0;34m(self, driver_command, params)\u001b[0m\n\u001b[1;32m    438\u001b[0m response \u001b[39m=\u001b[39m \u001b[39mself\u001b[39m\u001b[39m.\u001b[39mcommand_executor\u001b[39m.\u001b[39mexecute(driver_command, params)\n\u001b[1;32m    439\u001b[0m \u001b[39mif\u001b[39;00m response:\n\u001b[0;32m--> 440\u001b[0m     \u001b[39mself\u001b[39;49m\u001b[39m.\u001b[39;49merror_handler\u001b[39m.\u001b[39;49mcheck_response(response)\n\u001b[1;32m    441\u001b[0m     response[\u001b[39m\"\u001b[39m\u001b[39mvalue\u001b[39m\u001b[39m\"\u001b[39m] \u001b[39m=\u001b[39m \u001b[39mself\u001b[39m\u001b[39m.\u001b[39m_unwrap_value(response\u001b[39m.\u001b[39mget(\u001b[39m\"\u001b[39m\u001b[39mvalue\u001b[39m\u001b[39m\"\u001b[39m, \u001b[39mNone\u001b[39;00m))\n\u001b[1;32m    442\u001b[0m     \u001b[39mreturn\u001b[39;00m response\n",
      "File \u001b[0;32m~/miniconda3/envs/crawl/lib/python3.11/site-packages/selenium/webdriver/remote/errorhandler.py:245\u001b[0m, in \u001b[0;36mErrorHandler.check_response\u001b[0;34m(self, response)\u001b[0m\n\u001b[1;32m    243\u001b[0m         alert_text \u001b[39m=\u001b[39m value[\u001b[39m\"\u001b[39m\u001b[39malert\u001b[39m\u001b[39m\"\u001b[39m]\u001b[39m.\u001b[39mget(\u001b[39m\"\u001b[39m\u001b[39mtext\u001b[39m\u001b[39m\"\u001b[39m)\n\u001b[1;32m    244\u001b[0m     \u001b[39mraise\u001b[39;00m exception_class(message, screen, stacktrace, alert_text)  \u001b[39m# type: ignore[call-arg]  # mypy is not smart enough here\u001b[39;00m\n\u001b[0;32m--> 245\u001b[0m \u001b[39mraise\u001b[39;00m exception_class(message, screen, stacktrace)\n",
      "\u001b[0;31mElementClickInterceptedException\u001b[0m: Message: element click intercepted: Element <span>...</span> is not clickable at point (287, 825). Other element would receive the click: <div id=\"mask\" style=\"width: 1710px; height: 953px;\"></div>\n  (Session info: chrome=113.0.5672.63)\nStacktrace:\n0   chromedriver                        0x00000001005b42b8 chromedriver + 4260536\n1   chromedriver                        0x00000001005ac94c chromedriver + 4229452\n2   chromedriver                        0x00000001001e89d4 chromedriver + 281044\n3   chromedriver                        0x000000010022a134 chromedriver + 549172\n4   chromedriver                        0x0000000100228094 chromedriver + 540820\n5   chromedriver                        0x0000000100225fac chromedriver + 532396\n6   chromedriver                        0x000000010022537c chromedriver + 529276\n7   chromedriver                        0x0000000100219984 chromedriver + 481668\n8   chromedriver                        0x00000001002191cc chromedriver + 479692\n9   chromedriver                        0x000000010025a7e4 chromedriver + 747492\n10  chromedriver                        0x000000010021798c chromedriver + 473484\n11  chromedriver                        0x000000010021898c chromedriver + 477580\n12  chromedriver                        0x0000000100572a6c chromedriver + 3992172\n13  chromedriver                        0x0000000100576cd0 chromedriver + 4009168\n14  chromedriver                        0x000000010057cd48 chromedriver + 4033864\n15  chromedriver                        0x0000000100577940 chromedriver + 4012352\n16  chromedriver                        0x000000010054f57c chromedriver + 3847548\n17  chromedriver                        0x0000000100595400 chromedriver + 4133888\n18  chromedriver                        0x0000000100595558 chromedriver + 4134232\n19  chromedriver                        0x00000001005a5c3c chromedriver + 4201532\n20  libsystem_pthread.dylib             0x000000019dfebfa8 _pthread_start + 148\n21  libsystem_pthread.dylib             0x000000019dfe6da0 thread_start + 8\n"
     ]
    }
   ],
   "source": [
    "from selenium import webdriver\n",
    "from selenium.webdriver.common.keys import Keys\n",
    "from selenium.webdriver.common.by import By\n",
    "import time\n",
    "\n",
    "driver = webdriver.Chrome()\n",
    "driver.maximize_window()\n",
    "driver.get(\"https://www.opinet.co.kr/user/main/mainView.do\")\n",
    "time.sleep(1)\n",
    "driver.get(\"https://www.opinet.co.kr/searRgSelect.do\")\n",
    "time.sleep(1)\n",
    "\n",
    "driver.find_element(By.XPATH, '//*[@id=\"SIDO_NM0\"]/option[2]').click()\n",
    "time.sleep(2)\n",
    "seoul_list = driver.find_element(By.ID, 'SIGUNGU_NM0')\n",
    "seoul_gu_list = seoul_list.find_elements(By.TAG_NAME, \"option\")\n",
    "\n",
    "seoul_gu_name = [option.get_attribute(\"value\") for option in seoul_gu_list]\n",
    "seoul_gu_name.remove('')\n",
    "print(seoul_gu_name)\n",
    "\n",
    "for i in seoul_gu_name:\n",
    "    driver.find_element(By.ID, 'SIGUNGU_NM0').send_keys(i)\n",
    "\n",
    "    # 조회 버튼 누르기\n",
    "    driver.find_element(By.ID, 'searRgSelect').click()\n",
    "    time.sleep(2)\n",
    "\n",
    "    # 엑셀 저장 버튼 누르기\n",
    "    driver.find_element(By.XPATH, '//*[@id=\"glopopd_excel\"]/span').click()\n",
    "    time.sleep(2)"
   ]
  }
 ],
 "metadata": {
  "kernelspec": {
   "display_name": "crawl",
   "language": "python",
   "name": "python3"
  },
  "language_info": {
   "codemirror_mode": {
    "name": "ipython",
    "version": 3
   },
   "file_extension": ".py",
   "mimetype": "text/x-python",
   "name": "python",
   "nbconvert_exporter": "python",
   "pygments_lexer": "ipython3",
   "version": "3.11.3"
  },
  "orig_nbformat": 4
 },
 "nbformat": 4,
 "nbformat_minor": 2
}
